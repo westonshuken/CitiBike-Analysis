{
 "cells": [
  {
   "cell_type": "code",
   "execution_count": 1,
   "metadata": {},
   "outputs": [],
   "source": [
    "import pandas as pd\n",
    "import os\n",
    "import matplotlib.pyplot as plt\n",
    "import numpy as np"
   ]
  },
  {
   "cell_type": "markdown",
   "metadata": {},
   "source": [
    "# CitiBike Data Project\n",
    "\n",
    "#### Build an End-to-End Data Project using CitiBike Ride Data\n",
    "\n",
    "1. Data Ingestion\n",
    "2. EDA\n",
    "3. Problem Framing\n",
    "4. Define \n",
    "5. Product Design\n",
    "6. Optimize Forecast Model\n",
    "7. Dashboard w Predictions\n",
    "8. Presentation\n",
    "\n"
   ]
  },
  {
   "cell_type": "markdown",
   "metadata": {},
   "source": []
  },
  {
   "cell_type": "code",
   "execution_count": 16,
   "metadata": {},
   "outputs": [],
   "source": [
    "# let's look at 1 CSV as a sample for EDA since the dataset is potentially large\n",
    "sample_df =  pd.read_csv(\"/Users/westonshuken/Documents/_2025/CitiBike/Data/citibike_tripdata_2022/202201-citibike-tripdata_1.csv\", dtype={'start_station_id': str, 'end_station_id': str})"
   ]
  },
  {
   "cell_type": "code",
   "execution_count": 17,
   "metadata": {},
   "outputs": [
    {
     "data": {
      "text/plain": [
       "Index(['ride_id', 'rideable_type', 'started_at', 'ended_at',\n",
       "       'start_station_name', 'start_station_id', 'end_station_name',\n",
       "       'end_station_id', 'start_lat', 'start_lng', 'end_lat', 'end_lng',\n",
       "       'member_casual'],\n",
       "      dtype='object')"
      ]
     },
     "execution_count": 17,
     "metadata": {},
     "output_type": "execute_result"
    }
   ],
   "source": [
    "# list of columns\n",
    "sample_df.columns"
   ]
  },
  {
   "cell_type": "code",
   "execution_count": 18,
   "metadata": {},
   "outputs": [
    {
     "data": {
      "text/html": [
       "<div>\n",
       "<style scoped>\n",
       "    .dataframe tbody tr th:only-of-type {\n",
       "        vertical-align: middle;\n",
       "    }\n",
       "\n",
       "    .dataframe tbody tr th {\n",
       "        vertical-align: top;\n",
       "    }\n",
       "\n",
       "    .dataframe thead th {\n",
       "        text-align: right;\n",
       "    }\n",
       "</style>\n",
       "<table border=\"1\" class=\"dataframe\">\n",
       "  <thead>\n",
       "    <tr style=\"text-align: right;\">\n",
       "      <th></th>\n",
       "      <th>ride_id</th>\n",
       "      <th>rideable_type</th>\n",
       "      <th>started_at</th>\n",
       "      <th>ended_at</th>\n",
       "      <th>start_station_name</th>\n",
       "      <th>start_station_id</th>\n",
       "      <th>end_station_name</th>\n",
       "      <th>end_station_id</th>\n",
       "      <th>start_lat</th>\n",
       "      <th>start_lng</th>\n",
       "      <th>end_lat</th>\n",
       "      <th>end_lng</th>\n",
       "      <th>member_casual</th>\n",
       "    </tr>\n",
       "  </thead>\n",
       "  <tbody>\n",
       "    <tr>\n",
       "      <th>0</th>\n",
       "      <td>BFD29218AB271154</td>\n",
       "      <td>electric_bike</td>\n",
       "      <td>2022-01-21 13:13:43.392</td>\n",
       "      <td>2022-01-21 13:22:31.463</td>\n",
       "      <td>West End Ave &amp; W 107 St</td>\n",
       "      <td>7650.05</td>\n",
       "      <td>Mt Morris Park W &amp; W 120 St</td>\n",
       "      <td>7685.14</td>\n",
       "      <td>40.802117</td>\n",
       "      <td>-73.968181</td>\n",
       "      <td>40.804038</td>\n",
       "      <td>-73.945925</td>\n",
       "      <td>member</td>\n",
       "    </tr>\n",
       "    <tr>\n",
       "      <th>1</th>\n",
       "      <td>7C953F2FD7BE1302</td>\n",
       "      <td>classic_bike</td>\n",
       "      <td>2022-01-10 11:30:54.162</td>\n",
       "      <td>2022-01-10 11:41:43.422</td>\n",
       "      <td>4 Ave &amp; 3 St</td>\n",
       "      <td>4028.04</td>\n",
       "      <td>Boerum Pl\\t&amp; Pacific St</td>\n",
       "      <td>4488.09</td>\n",
       "      <td>40.673746</td>\n",
       "      <td>-73.985649</td>\n",
       "      <td>40.688489</td>\n",
       "      <td>-73.991160</td>\n",
       "      <td>member</td>\n",
       "    </tr>\n",
       "    <tr>\n",
       "      <th>2</th>\n",
       "      <td>95893ABD40CED4B8</td>\n",
       "      <td>electric_bike</td>\n",
       "      <td>2022-01-26 10:52:43.096</td>\n",
       "      <td>2022-01-26 11:06:35.227</td>\n",
       "      <td>1 Ave &amp; E 62 St</td>\n",
       "      <td>6753.08</td>\n",
       "      <td>5 Ave &amp; E 29 St</td>\n",
       "      <td>6248.06</td>\n",
       "      <td>40.761227</td>\n",
       "      <td>-73.960940</td>\n",
       "      <td>40.745168</td>\n",
       "      <td>-73.986831</td>\n",
       "      <td>member</td>\n",
       "    </tr>\n",
       "    <tr>\n",
       "      <th>3</th>\n",
       "      <td>F853B50772137378</td>\n",
       "      <td>classic_bike</td>\n",
       "      <td>2022-01-03 08:35:48.247</td>\n",
       "      <td>2022-01-03 09:10:50.475</td>\n",
       "      <td>2 Ave &amp; E 96 St</td>\n",
       "      <td>7338.02</td>\n",
       "      <td>5 Ave &amp; E 29 St</td>\n",
       "      <td>6248.06</td>\n",
       "      <td>40.783964</td>\n",
       "      <td>-73.947167</td>\n",
       "      <td>40.745168</td>\n",
       "      <td>-73.986831</td>\n",
       "      <td>member</td>\n",
       "    </tr>\n",
       "    <tr>\n",
       "      <th>4</th>\n",
       "      <td>7590ADF834797B4B</td>\n",
       "      <td>classic_bike</td>\n",
       "      <td>2022-01-22 14:14:23.043</td>\n",
       "      <td>2022-01-22 14:34:57.474</td>\n",
       "      <td>6 Ave &amp; W 34 St</td>\n",
       "      <td>6364.10</td>\n",
       "      <td>5 Ave &amp; E 29 St</td>\n",
       "      <td>6248.06</td>\n",
       "      <td>40.749640</td>\n",
       "      <td>-73.988050</td>\n",
       "      <td>40.745168</td>\n",
       "      <td>-73.986831</td>\n",
       "      <td>member</td>\n",
       "    </tr>\n",
       "  </tbody>\n",
       "</table>\n",
       "</div>"
      ],
      "text/plain": [
       "            ride_id  rideable_type               started_at  \\\n",
       "0  BFD29218AB271154  electric_bike  2022-01-21 13:13:43.392   \n",
       "1  7C953F2FD7BE1302   classic_bike  2022-01-10 11:30:54.162   \n",
       "2  95893ABD40CED4B8  electric_bike  2022-01-26 10:52:43.096   \n",
       "3  F853B50772137378   classic_bike  2022-01-03 08:35:48.247   \n",
       "4  7590ADF834797B4B   classic_bike  2022-01-22 14:14:23.043   \n",
       "\n",
       "                  ended_at       start_station_name start_station_id  \\\n",
       "0  2022-01-21 13:22:31.463  West End Ave & W 107 St          7650.05   \n",
       "1  2022-01-10 11:41:43.422             4 Ave & 3 St          4028.04   \n",
       "2  2022-01-26 11:06:35.227          1 Ave & E 62 St          6753.08   \n",
       "3  2022-01-03 09:10:50.475          2 Ave & E 96 St          7338.02   \n",
       "4  2022-01-22 14:34:57.474          6 Ave & W 34 St          6364.10   \n",
       "\n",
       "              end_station_name end_station_id  start_lat  start_lng  \\\n",
       "0  Mt Morris Park W & W 120 St        7685.14  40.802117 -73.968181   \n",
       "1      Boerum Pl\\t& Pacific St        4488.09  40.673746 -73.985649   \n",
       "2              5 Ave & E 29 St        6248.06  40.761227 -73.960940   \n",
       "3              5 Ave & E 29 St        6248.06  40.783964 -73.947167   \n",
       "4              5 Ave & E 29 St        6248.06  40.749640 -73.988050   \n",
       "\n",
       "     end_lat    end_lng member_casual  \n",
       "0  40.804038 -73.945925        member  \n",
       "1  40.688489 -73.991160        member  \n",
       "2  40.745168 -73.986831        member  \n",
       "3  40.745168 -73.986831        member  \n",
       "4  40.745168 -73.986831        member  "
      ]
     },
     "execution_count": 18,
     "metadata": {},
     "output_type": "execute_result"
    }
   ],
   "source": [
    "sample_df.head()"
   ]
  },
  {
   "cell_type": "code",
   "execution_count": 19,
   "metadata": {},
   "outputs": [
    {
     "name": "stdout",
     "output_type": "stream",
     "text": [
      "<class 'pandas.core.frame.DataFrame'>\n",
      "RangeIndex: 1000000 entries, 0 to 999999\n",
      "Data columns (total 13 columns):\n",
      " #   Column              Non-Null Count    Dtype  \n",
      "---  ------              --------------    -----  \n",
      " 0   ride_id             1000000 non-null  object \n",
      " 1   rideable_type       1000000 non-null  object \n",
      " 2   started_at          1000000 non-null  object \n",
      " 3   ended_at            1000000 non-null  object \n",
      " 4   start_station_name  1000000 non-null  object \n",
      " 5   start_station_id    1000000 non-null  object \n",
      " 6   end_station_name    990711 non-null   object \n",
      " 7   end_station_id      990711 non-null   object \n",
      " 8   start_lat           1000000 non-null  float64\n",
      " 9   start_lng           1000000 non-null  float64\n",
      " 10  end_lat             993386 non-null   float64\n",
      " 11  end_lng             993386 non-null   float64\n",
      " 12  member_casual       1000000 non-null  object \n",
      "dtypes: float64(4), object(9)\n",
      "memory usage: 99.2+ MB\n"
     ]
    }
   ],
   "source": [
    "sample_df.info()"
   ]
  },
  {
   "cell_type": "code",
   "execution_count": 20,
   "metadata": {},
   "outputs": [
    {
     "data": {
      "text/plain": [
       "ride_id               1000000\n",
       "rideable_type               2\n",
       "started_at             999964\n",
       "ended_at               999321\n",
       "start_station_name       1528\n",
       "start_station_id         1523\n",
       "end_station_name         1518\n",
       "end_station_id           1514\n",
       "start_lat                1961\n",
       "start_lng                1955\n",
       "end_lat                  1962\n",
       "end_lng                  1952\n",
       "member_casual               2\n",
       "dtype: int64"
      ]
     },
     "execution_count": 20,
     "metadata": {},
     "output_type": "execute_result"
    }
   ],
   "source": [
    "sample_df.nunique()"
   ]
  },
  {
   "cell_type": "code",
   "execution_count": 21,
   "metadata": {},
   "outputs": [
    {
     "data": {
      "text/plain": [
       "rideable_type\n",
       "classic_bike     57.472\n",
       "electric_bike    42.528\n",
       "Name: ride_id, dtype: float64"
      ]
     },
     "execution_count": 21,
     "metadata": {},
     "output_type": "execute_result"
    }
   ],
   "source": [
    "sample_df.groupby('rideable_type').count()['ride_id'] / sample_df['ride_id'].count() * 100"
   ]
  },
  {
   "cell_type": "code",
   "execution_count": 22,
   "metadata": {},
   "outputs": [
    {
     "data": {
      "text/plain": [
       "member_casual\n",
       "casual    14.2931\n",
       "member    85.7069\n",
       "Name: ride_id, dtype: float64"
      ]
     },
     "execution_count": 22,
     "metadata": {},
     "output_type": "execute_result"
    }
   ],
   "source": [
    "sample_df.groupby('member_casual').count()['ride_id'] / sample_df['ride_id'].count() * 100"
   ]
  },
  {
   "cell_type": "code",
   "execution_count": 23,
   "metadata": {},
   "outputs": [
    {
     "data": {
      "text/plain": [
       "member_casual  rideable_type\n",
       "casual         classic_bike      63890\n",
       "               electric_bike     79041\n",
       "member         classic_bike     510830\n",
       "               electric_bike    346239\n",
       "dtype: int64"
      ]
     },
     "execution_count": 23,
     "metadata": {},
     "output_type": "execute_result"
    }
   ],
   "source": [
    "sample_df.groupby(['member_casual', 'rideable_type']).size() "
   ]
  },
  {
   "cell_type": "code",
   "execution_count": 24,
   "metadata": {},
   "outputs": [
    {
     "data": {
      "text/plain": [
       "member_casual  rideable_type\n",
       "casual         classic_bike     0.446999\n",
       "               electric_bike    0.553001\n",
       "member         classic_bike     0.596020\n",
       "               electric_bike    0.403980\n",
       "dtype: float64"
      ]
     },
     "execution_count": 24,
     "metadata": {},
     "output_type": "execute_result"
    }
   ],
   "source": [
    "sample_df.groupby(['member_casual', 'rideable_type']).size() / sample_df.groupby('member_casual').count()['ride_id']"
   ]
  },
  {
   "cell_type": "code",
   "execution_count": 25,
   "metadata": {},
   "outputs": [
    {
     "data": {
      "text/plain": [
       "rideable_type  member_casual\n",
       "classic_bike   casual           0.111167\n",
       "               member           0.888833\n",
       "electric_bike  casual           0.185856\n",
       "               member           0.814144\n",
       "dtype: float64"
      ]
     },
     "execution_count": 25,
     "metadata": {},
     "output_type": "execute_result"
    }
   ],
   "source": [
    "temp_series = sample_df.groupby(['rideable_type', 'member_casual']).size() / sample_df.groupby('rideable_type').count()['ride_id']\n",
    "temp_series"
   ]
  },
  {
   "cell_type": "code",
   "execution_count": 26,
   "metadata": {},
   "outputs": [
    {
     "data": {
      "image/png": "[encoded data removed]",
      "text/plain": [
       "<Figure size 600x300 with 1 Axes>"
      ]
     },
     "metadata": {},
     "output_type": "display_data"
    }
   ],
   "source": [
    "temp_series = sample_df.groupby(['rideable_type', 'member_casual']).size()\n",
    "sample_pivot = temp_series.reset_index(name='count').pivot(index='member_casual', columns='rideable_type', values='count')\n",
    "\n",
    "x = np.arange(len(sample_pivot.index))\n",
    "bar_width = 0.4\n",
    "\n",
    "# Plot the bars\n",
    "fig, ax = plt.subplots(figsize=(6, 3))\n",
    "ax.bar(x - bar_width / 2, sample_pivot['classic_bike'], width=bar_width, label='classic_bike')\n",
    "ax.bar(x + bar_width / 2, sample_pivot['electric_bike'], width=bar_width, label='electric_bike')\n",
    "\n",
    "# Add labels and title\n",
    "ax.set_xlabel('Rideable Type')\n",
    "ax.set_ylabel('Count')\n",
    "ax.set_title('Bar-in-Bar Chart: Rideable Type by Member Type')\n",
    "ax.set_xticks(x)\n",
    "ax.set_xticklabels(sample_pivot.index)\n",
    "ax.legend()\n",
    "\n",
    "# Show the plot\n",
    "plt.tight_layout()\n",
    "plt.show()\n"
   ]
  },
  {
   "cell_type": "code",
   "execution_count": 27,
   "metadata": {},
   "outputs": [
    {
     "data": {
      "image/png": "[encoded data removed]",
      "text/plain": [
       "<Figure size 600x300 with 1 Axes>"
      ]
     },
     "metadata": {},
     "output_type": "display_data"
    }
   ],
   "source": [
    "temp_series = sample_df.groupby(['rideable_type', 'member_casual']).size() / sample_df.groupby('rideable_type').count()['ride_id'] * 100\n",
    "sample_pivot = temp_series.reset_index(name='count').pivot(index='member_casual', columns='rideable_type', values='count')\n",
    "\n",
    "x = np.arange(len(sample_pivot.index))\n",
    "bar_width = 0.4\n",
    "\n",
    "# Plot the bars\n",
    "fig, ax = plt.subplots(figsize=(6, 3))\n",
    "ax.bar(x - bar_width / 2, sample_pivot['classic_bike'], width=bar_width, label='classic_bike')\n",
    "ax.bar(x + bar_width / 2, sample_pivot['electric_bike'], width=bar_width, label='electric_bike')\n",
    "\n",
    "# Add labels and title\n",
    "ax.set_xlabel('Rideable Type')\n",
    "ax.set_ylabel('Count')\n",
    "ax.set_title('Bar-in-Bar Chart: Rideable Type by Member Type')\n",
    "ax.set_xticks(x)\n",
    "ax.set_xticklabels(sample_pivot.index)\n",
    "ax.legend()\n",
    "\n",
    "# Show the plot\n",
    "plt.tight_layout()\n",
    "plt.show()\n"
   ]
  },
  {
   "cell_type": "code",
   "execution_count": 28,
   "metadata": {},
   "outputs": [
    {
     "data": {
      "image/png": "[encoded data removed]",
      "text/plain": [
       "<Figure size 800x600 with 1 Axes>"
      ]
     },
     "metadata": {},
     "output_type": "display_data"
    }
   ],
   "source": [
    "# Define bar positions and width\n",
    "x = np.arange(len(sample_pivot.index))  # Positions for rideable types\n",
    "bar_width = 0.6  # Stacked bars have a single width\n",
    "\n",
    "# Plot the stacked bars\n",
    "fig, ax = plt.subplots(figsize=(8, 6))\n",
    "\n",
    "# Plot the first category\n",
    "ax.bar(x, sample_pivot['classic_bike'], width=bar_width, label='Casual')\n",
    "\n",
    "# Plot the second category on top of the first\n",
    "ax.bar(x, sample_pivot['electric_bike'], width=bar_width, bottom=sample_pivot['electric_bike'], label='Member')\n",
    "\n",
    "# Add labels and title\n",
    "ax.set_xlabel('Rideable Type')\n",
    "ax.set_ylabel('Count')\n",
    "ax.set_title('Stacked Bar Chart: Rideable Type by Member Type')\n",
    "ax.set_xticks(x)\n",
    "ax.set_xticklabels(sample_pivot.index)\n",
    "ax.legend()\n",
    "\n",
    "# Show the plot\n",
    "plt.tight_layout()\n",
    "plt.show()"
   ]
  },
  {
   "cell_type": "code",
   "execution_count": 29,
   "metadata": {},
   "outputs": [
    {
     "data": {
      "text/plain": [
       "start_station_name\n",
       "1 Ave & E 110 St                 900\n",
       "1 Ave & E 16 St                 2890\n",
       "1 Ave & E 18 St                 2943\n",
       "1 Ave & E 30 St                 1857\n",
       "1 Ave & E 39 St                 1866\n",
       "                                ... \n",
       "Wyckoff Av & Stanhope St         578\n",
       "Wyckoff Ave & Gates Ave          578\n",
       "Wyckoff St & Nevins St           392\n",
       "Wythe Ave & Metropolitan Ave    1970\n",
       "Yankee Ferry Terminal            111\n",
       "Name: ride_id, Length: 1528, dtype: int64"
      ]
     },
     "execution_count": 29,
     "metadata": {},
     "output_type": "execute_result"
    }
   ],
   "source": [
    "start_ride_counts = sample_df.groupby('start_station_name')['ride_id'].count()\n",
    "\n",
    "# Convert to DataFrame for convenience\n",
    "start_ride_counts_df = start_ride_counts.reset_index(name='ride_count')\n",
    "\n",
    "# Calculate summary statistics\n",
    "start_ride_counts.describe()\n",
    "start_ride_counts"
   ]
  },
  {
   "cell_type": "code",
   "execution_count": 30,
   "metadata": {},
   "outputs": [
    {
     "data": {
      "text/plain": [
       "count    1518.000000\n",
       "mean      652.642292\n",
       "std       779.468968\n",
       "min         1.000000\n",
       "25%        93.250000\n",
       "50%       330.500000\n",
       "75%       944.500000\n",
       "max      5876.000000\n",
       "Name: ride_id, dtype: float64"
      ]
     },
     "execution_count": 30,
     "metadata": {},
     "output_type": "execute_result"
    }
   ],
   "source": [
    "end_ride_counts = sample_df.groupby('end_station_name')['ride_id'].count()\n",
    "\n",
    "# Convert to DataFrame for convenience\n",
    "end_ride_counts_df = end_ride_counts.reset_index(name='ride_count')\n",
    "\n",
    "# Calculate summary statistics\n",
    "end_ride_counts.describe()"
   ]
  },
  {
   "cell_type": "code",
   "execution_count": 31,
   "metadata": {},
   "outputs": [
    {
     "ename": "NameError",
     "evalue": "name 'ride_counts_df' is not defined",
     "output_type": "error",
     "traceback": [
      "\u001b[0;31m---------------------------------------------------------------------------\u001b[0m",
      "\u001b[0;31mNameError\u001b[0m                                 Traceback (most recent call last)",
      "Cell \u001b[0;32mIn[31], line 1\u001b[0m\n\u001b[0;32m----> 1\u001b[0m start_ride_counts_df[\u001b[43mride_counts_df\u001b[49m[\u001b[38;5;124m'\u001b[39m\u001b[38;5;124mride_count\u001b[39m\u001b[38;5;124m'\u001b[39m] \u001b[38;5;241m<\u001b[39m \u001b[38;5;241m5\u001b[39m]\u001b[38;5;241m.\u001b[39msort_values(by\u001b[38;5;241m=\u001b[39m\u001b[38;5;124m'\u001b[39m\u001b[38;5;124mride_count\u001b[39m\u001b[38;5;124m'\u001b[39m)\n",
      "\u001b[0;31mNameError\u001b[0m: name 'ride_counts_df' is not defined"
     ]
    }
   ],
   "source": [
    "start_ride_counts_df[ride_counts_df['ride_count'] < 5].sort_values(by='ride_count')"
   ]
  },
  {
   "cell_type": "code",
   "execution_count": null,
   "metadata": {},
   "outputs": [],
   "source": [
    "end_ride_counts_outliers = end_ride_counts_df[ride_counts_df['ride_count'] < 5].sort_values(by='ride_count')\n",
    "end_ride_counts_outliers"
   ]
  },
  {
   "cell_type": "code",
   "execution_count": null,
   "metadata": {},
   "outputs": [],
   "source": [
    "start_ride_counts_df"
   ]
  },
  {
   "cell_type": "code",
   "execution_count": null,
   "metadata": {},
   "outputs": [],
   "source": [
    "merged_df = pd.merge(end_ride_counts_outliers, start_ride_counts_df, left_on='end_station_name', right_on='start_station_name', how='left')\n",
    "merged_df"
   ]
  },
  {
   "cell_type": "markdown",
   "metadata": {},
   "source": [
    "## UNION CSV FILES\n",
    "\n",
    "#### Daily Data for ML Modeling"
   ]
  },
  {
   "cell_type": "code",
   "execution_count": 2,
   "metadata": {},
   "outputs": [
    {
     "name": "stdout",
     "output_type": "stream",
     "text": [
      "/Users/westonshuken/Documents/_2025/CitiBike/Data/citibike_tripdata_2022\n",
      "reading file:  1\n",
      "reading file:  2\n",
      "reading file:  3\n",
      "reading file:  4\n",
      "reading file:  5\n",
      "reading file:  6\n",
      "reading file:  7\n",
      "reading file:  8\n",
      "reading file:  9\n",
      "reading file:  10\n",
      "reading file:  11\n",
      "reading file:  12\n",
      "reading file:  13\n",
      "reading file:  14\n",
      "reading file:  15\n",
      "reading file:  16\n",
      "reading file:  17\n",
      "reading file:  18\n",
      "reading file:  19\n",
      "reading file:  20\n",
      "reading file:  21\n",
      "reading file:  22\n",
      "reading file:  23\n",
      "reading file:  24\n",
      "reading file:  25\n",
      "reading file:  26\n",
      "reading file:  27\n",
      "reading file:  28\n",
      "reading file:  29\n",
      "reading file:  30\n",
      "reading file:  31\n",
      "reading file:  32\n",
      "reading file:  33\n",
      "reading file:  34\n",
      "reading file:  35\n",
      "reading file:  36\n",
      "/Users/westonshuken/Documents/_2025/CitiBike/Data/citibike_tripdata_2023\n",
      "reading file:  37\n",
      "reading file:  38\n",
      "reading file:  39\n",
      "reading file:  40\n",
      "reading file:  41\n",
      "reading file:  42\n",
      "reading file:  43\n",
      "reading file:  44\n",
      "reading file:  45\n",
      "reading file:  46\n",
      "reading file:  47\n",
      "reading file:  48\n",
      "reading file:  49\n",
      "reading file:  50\n",
      "reading file:  51\n",
      "reading file:  52\n",
      "reading file:  53\n",
      "reading file:  54\n",
      "reading file:  55\n",
      "reading file:  56\n",
      "reading file:  57\n",
      "reading file:  58\n",
      "reading file:  59\n",
      "reading file:  60\n",
      "reading file:  61\n",
      "reading file:  62\n",
      "reading file:  63\n",
      "reading file:  64\n",
      "reading file:  65\n",
      "reading file:  66\n",
      "reading file:  67\n",
      "reading file:  68\n",
      "reading file:  69\n",
      "reading file:  70\n",
      "reading file:  71\n",
      "reading file:  72\n",
      "reading file:  73\n",
      "reading file:  74\n",
      "reading file:  75\n",
      "reading file:  76\n"
     ]
    }
   ],
   "source": [
    "# Daily Data Union\n",
    "\n",
    "path = [\"/Users/westonshuken/Documents/_2025/CitiBike/Data/citibike_tripdata_2022\", \"/Users/westonshuken/Documents/_2025/CitiBike/Data/citibike_tripdata_2023\"]\n",
    "\n",
    "dfs = []\n",
    "\n",
    "tick = 0 \n",
    "\n",
    "for i in path:\n",
    "    print(i)\n",
    "    for filename in os.listdir(i):\n",
    "        tick += 1\n",
    "        if filename.endswith('.csv'):\n",
    "            file_path = os.path.join(i, filename)\n",
    "            print(\"reading file: \", str(tick))\n",
    "            df = pd.read_csv(file_path, dtype={'start_station_id': str, 'end_station_id': str})\n",
    "            df['ended_at'] = pd.to_datetime(df['ended_at'])\n",
    "            grouped_df = df.groupby(['end_station_name', pd.Grouper(key='ended_at', freq='D')]).agg({'ride_id': ['count'], 'end_lng':['mean'], 'end_lat': ['mean']})\n",
    "            grouped_df = grouped_df.reset_index()\n",
    "            grouped_df.columns = [i[0] for i in grouped_df.columns]\n",
    "            dfs.append(grouped_df)\n",
    "            #if tick >=3:\n",
    "               # break\n",
    "\n"
   ]
  },
  {
   "cell_type": "code",
   "execution_count": 3,
   "metadata": {},
   "outputs": [],
   "source": [
    "concat_df = pd.concat(dfs, ignore_index=True)\n"
   ]
  },
  {
   "cell_type": "code",
   "execution_count": 5,
   "metadata": {},
   "outputs": [
    {
     "data": {
      "text/plain": [
       "Timestamp('2022-01-01 00:00:00')"
      ]
     },
     "execution_count": 5,
     "metadata": {},
     "output_type": "execute_result"
    }
   ],
   "source": [
    "concat_df['ended_at'].min()"
   ]
  },
  {
   "cell_type": "code",
   "execution_count": null,
   "metadata": {},
   "outputs": [],
   "source": [
    "grouped_df.groupby('end_station_name').agg({'ride_id':['sum'], 'end_lng':['mean'], 'end_lat':['mean']})"
   ]
  },
  {
   "cell_type": "code",
   "execution_count": 6,
   "metadata": {},
   "outputs": [],
   "source": [
    "m_ts_df = concat_df.groupby('ended_at').agg({'ride_id':['sum'], 'end_lng':['mean'], 'end_lat':['mean']}).reset_index()"
   ]
  },
  {
   "cell_type": "code",
   "execution_count": 7,
   "metadata": {},
   "outputs": [
    {
     "data": {
      "image/png": "[encoded data removed]",
      "text/plain": [
       "<Figure size 640x480 with 1 Axes>"
      ]
     },
     "metadata": {},
     "output_type": "display_data"
    }
   ],
   "source": [
    "x = m_ts_df['ended_at']\n",
    "y = m_ts_df['ride_id']\n",
    "\n",
    "plt.plot(x, y) \n",
    "plt.show()"
   ]
  },
  {
   "cell_type": "code",
   "execution_count": 11,
   "metadata": {},
   "outputs": [
    {
     "data": {
      "text/html": [
       "<div>\n",
       "<style scoped>\n",
       "    .dataframe tbody tr th:only-of-type {\n",
       "        vertical-align: middle;\n",
       "    }\n",
       "\n",
       "    .dataframe tbody tr th {\n",
       "        vertical-align: top;\n",
       "    }\n",
       "\n",
       "    .dataframe thead th {\n",
       "        text-align: right;\n",
       "    }\n",
       "</style>\n",
       "<table border=\"1\" class=\"dataframe\">\n",
       "  <thead>\n",
       "    <tr style=\"text-align: right;\">\n",
       "      <th></th>\n",
       "      <th>ended_at</th>\n",
       "      <th>ride_id</th>\n",
       "      <th>end_lng</th>\n",
       "      <th>end_lat</th>\n",
       "    </tr>\n",
       "  </thead>\n",
       "  <tbody>\n",
       "    <tr>\n",
       "      <th>0</th>\n",
       "      <td>2022-01-01</td>\n",
       "      <td>20536</td>\n",
       "      <td>-73.955764</td>\n",
       "      <td>40.749719</td>\n",
       "    </tr>\n",
       "    <tr>\n",
       "      <th>1</th>\n",
       "      <td>2022-01-02</td>\n",
       "      <td>42134</td>\n",
       "      <td>-73.955438</td>\n",
       "      <td>40.750176</td>\n",
       "    </tr>\n",
       "    <tr>\n",
       "      <th>2</th>\n",
       "      <td>2022-01-03</td>\n",
       "      <td>32492</td>\n",
       "      <td>-73.955554</td>\n",
       "      <td>40.750403</td>\n",
       "    </tr>\n",
       "    <tr>\n",
       "      <th>3</th>\n",
       "      <td>2022-01-04</td>\n",
       "      <td>35876</td>\n",
       "      <td>-73.954796</td>\n",
       "      <td>40.751008</td>\n",
       "    </tr>\n",
       "    <tr>\n",
       "      <th>4</th>\n",
       "      <td>2022-01-05</td>\n",
       "      <td>33645</td>\n",
       "      <td>-73.954972</td>\n",
       "      <td>40.751162</td>\n",
       "    </tr>\n",
       "  </tbody>\n",
       "</table>\n",
       "</div>"
      ],
      "text/plain": [
       "    ended_at  ride_id    end_lng    end_lat\n",
       "0 2022-01-01    20536 -73.955764  40.749719\n",
       "1 2022-01-02    42134 -73.955438  40.750176\n",
       "2 2022-01-03    32492 -73.955554  40.750403\n",
       "3 2022-01-04    35876 -73.954796  40.751008\n",
       "4 2022-01-05    33645 -73.954972  40.751162"
      ]
     },
     "execution_count": 11,
     "metadata": {},
     "output_type": "execute_result"
    }
   ],
   "source": [
    "m_ts_df.columns = [i[0] for i in m_ts_df.columns]\n",
    "m_ts_df.head()"
   ]
  },
  {
   "cell_type": "code",
   "execution_count": 13,
   "metadata": {},
   "outputs": [],
   "source": [
    "m_ts_df.to_csv('monthly_rides_2022_2023.csv', index=False)\n"
   ]
  },
  {
   "cell_type": "code",
   "execution_count": null,
   "metadata": {},
   "outputs": [],
   "source": []
  }
 ],
 "metadata": {
  "kernelspec": {
   "display_name": "usual",
   "language": "python",
   "name": "python3"
  },
  "language_info": {
   "codemirror_mode": {
    "name": "ipython",
    "version": 3
   },
   "file_extension": ".py",
   "mimetype": "text/x-python",
   "name": "python",
   "nbconvert_exporter": "python",
   "pygments_lexer": "ipython3",
   "version": "3.11.5"
  }
 },
 "nbformat": 4,
 "nbformat_minor": 2
}
