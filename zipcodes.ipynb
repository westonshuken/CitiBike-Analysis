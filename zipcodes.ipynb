{
 "cells": [
  {
   "cell_type": "code",
   "execution_count": 36,
   "metadata": {},
   "outputs": [],
   "source": [
    "from geopy.geocoders import Nominatim\n",
    "import pandas as pd\n",
    "import time\n"
   ]
  },
  {
   "cell_type": "code",
   "execution_count": 68,
   "metadata": {},
   "outputs": [
    {
     "data": {
      "text/html": [
       "<div>\n",
       "<style scoped>\n",
       "    .dataframe tbody tr th:only-of-type {\n",
       "        vertical-align: middle;\n",
       "    }\n",
       "\n",
       "    .dataframe tbody tr th {\n",
       "        vertical-align: top;\n",
       "    }\n",
       "\n",
       "    .dataframe thead th {\n",
       "        text-align: right;\n",
       "    }\n",
       "</style>\n",
       "<table border=\"1\" class=\"dataframe\">\n",
       "  <thead>\n",
       "    <tr style=\"text-align: right;\">\n",
       "      <th></th>\n",
       "      <th>end_station_name</th>\n",
       "      <th>ended_at</th>\n",
       "      <th>ride_id</th>\n",
       "      <th>end_lng</th>\n",
       "      <th>end_lat</th>\n",
       "    </tr>\n",
       "  </thead>\n",
       "  <tbody>\n",
       "    <tr>\n",
       "      <th>0</th>\n",
       "      <td>1 Ave &amp; E 110 St</td>\n",
       "      <td>2022-08-01</td>\n",
       "      <td>48</td>\n",
       "      <td>-73.9383</td>\n",
       "      <td>40.792327</td>\n",
       "    </tr>\n",
       "    <tr>\n",
       "      <th>1</th>\n",
       "      <td>1 Ave &amp; E 110 St</td>\n",
       "      <td>2022-08-02</td>\n",
       "      <td>69</td>\n",
       "      <td>-73.9383</td>\n",
       "      <td>40.792327</td>\n",
       "    </tr>\n",
       "    <tr>\n",
       "      <th>2</th>\n",
       "      <td>1 Ave &amp; E 110 St</td>\n",
       "      <td>2022-08-03</td>\n",
       "      <td>70</td>\n",
       "      <td>-73.9383</td>\n",
       "      <td>40.792327</td>\n",
       "    </tr>\n",
       "    <tr>\n",
       "      <th>3</th>\n",
       "      <td>1 Ave &amp; E 110 St</td>\n",
       "      <td>2022-08-04</td>\n",
       "      <td>70</td>\n",
       "      <td>-73.9383</td>\n",
       "      <td>40.792327</td>\n",
       "    </tr>\n",
       "    <tr>\n",
       "      <th>4</th>\n",
       "      <td>1 Ave &amp; E 110 St</td>\n",
       "      <td>2022-08-05</td>\n",
       "      <td>78</td>\n",
       "      <td>-73.9383</td>\n",
       "      <td>40.792327</td>\n",
       "    </tr>\n",
       "  </tbody>\n",
       "</table>\n",
       "</div>"
      ],
      "text/plain": [
       "   end_station_name    ended_at  ride_id  end_lng    end_lat\n",
       "0  1 Ave & E 110 St  2022-08-01       48 -73.9383  40.792327\n",
       "1  1 Ave & E 110 St  2022-08-02       69 -73.9383  40.792327\n",
       "2  1 Ave & E 110 St  2022-08-03       70 -73.9383  40.792327\n",
       "3  1 Ave & E 110 St  2022-08-04       70 -73.9383  40.792327\n",
       "4  1 Ave & E 110 St  2022-08-05       78 -73.9383  40.792327"
      ]
     },
     "execution_count": 68,
     "metadata": {},
     "output_type": "execute_result"
    }
   ],
   "source": [
    "df = pd.read_csv(\"/Users/westonshuken/Documents/_2025/CitiBike/monthly_rides_by_station_2022_2023.csv\")\n",
    "df = df.reset_index(drop=True)\n",
    "df.head()"
   ]
  },
  {
   "cell_type": "code",
   "execution_count": 70,
   "metadata": {},
   "outputs": [],
   "source": [
    "selected_columns = ['end_station_name', 'end_lng', 'end_lat']\n",
    "df['end_lng'] = df['end_lng'].round(4)\n",
    "df['end_lat'] = df['end_lat'].round(4)\n",
    "df[selected_columns] = df[selected_columns].astype(str)\n",
    "\n",
    "df = df[selected_columns].drop_duplicates().reset_index(drop=True)\n"
   ]
  },
  {
   "cell_type": "code",
   "execution_count": 72,
   "metadata": {},
   "outputs": [
    {
     "name": "stdout",
     "output_type": "stream",
     "text": [
      "<class 'pandas.core.frame.DataFrame'>\n",
      "RangeIndex: 2494 entries, 0 to 2493\n",
      "Data columns (total 3 columns):\n",
      " #   Column            Non-Null Count  Dtype \n",
      "---  ------            --------------  ----- \n",
      " 0   end_station_name  2494 non-null   object\n",
      " 1   end_lng           2494 non-null   object\n",
      " 2   end_lat           2494 non-null   object\n",
      "dtypes: object(3)\n",
      "memory usage: 58.6+ KB\n"
     ]
    }
   ],
   "source": [
    "df.info()"
   ]
  },
  {
   "cell_type": "code",
   "execution_count": 104,
   "metadata": {},
   "outputs": [],
   "source": [
    "# Initialize Nominatim API\n",
    "geolocator = Nominatim(user_agent=\"WestonBikeAPP\")\n",
    "\n",
    "# Input latitude and longitude\n",
    "latitude = 40.6826456\n",
    "longitude = -73.9805666\n",
    "\n",
    "# Reverse geocoding\n",
    "location = geolocator.reverse((latitude, longitude))\n"
   ]
  },
  {
   "cell_type": "code",
   "execution_count": 105,
   "metadata": {},
   "outputs": [
    {
     "data": {
      "text/plain": [
       "'Kings County'"
      ]
     },
     "execution_count": 105,
     "metadata": {},
     "output_type": "execute_result"
    }
   ],
   "source": [
    "location.raw['address'].get('county')"
   ]
  },
  {
   "cell_type": "code",
   "execution_count": 33,
   "metadata": {},
   "outputs": [
    {
     "data": {
      "text/plain": [
       "'11101'"
      ]
     },
     "execution_count": 33,
     "metadata": {},
     "output_type": "execute_result"
    }
   ],
   "source": [
    "zip_code = location.raw['address'].get('postcode', 'ZIP code not found')\n",
    "zip_code"
   ]
  },
  {
   "cell_type": "code",
   "execution_count": 73,
   "metadata": {},
   "outputs": [],
   "source": [
    "def get_zip_code(lat, lon):\n",
    "    tick = 1\n",
    "    try:\n",
    "        location = geolocator.reverse((lat, lon))\n",
    "        if location.address != None:\n",
    "            time.sleep(1.1)\n",
    "            return location.raw['address'].get('postcode', 'ZIP code not found')\n",
    "        return 'n/a'\n",
    "    except Exception as e:\n",
    "        return f\"Error: {e}\""
   ]
  },
  {
   "cell_type": "code",
   "execution_count": 74,
   "metadata": {},
   "outputs": [
    {
     "data": {
      "text/html": [
       "<div>\n",
       "<style scoped>\n",
       "    .dataframe tbody tr th:only-of-type {\n",
       "        vertical-align: middle;\n",
       "    }\n",
       "\n",
       "    .dataframe tbody tr th {\n",
       "        vertical-align: top;\n",
       "    }\n",
       "\n",
       "    .dataframe thead th {\n",
       "        text-align: right;\n",
       "    }\n",
       "</style>\n",
       "<table border=\"1\" class=\"dataframe\">\n",
       "  <thead>\n",
       "    <tr style=\"text-align: right;\">\n",
       "      <th></th>\n",
       "      <th>end_station_name</th>\n",
       "      <th>end_lng</th>\n",
       "      <th>end_lat</th>\n",
       "      <th>ZIP Code</th>\n",
       "    </tr>\n",
       "  </thead>\n",
       "  <tbody>\n",
       "    <tr>\n",
       "      <th>0</th>\n",
       "      <td>1 Ave &amp; E 110 St</td>\n",
       "      <td>-73.9383</td>\n",
       "      <td>40.7923</td>\n",
       "      <td>10029</td>\n",
       "    </tr>\n",
       "    <tr>\n",
       "      <th>1</th>\n",
       "      <td>1 Ave &amp; E 18 St</td>\n",
       "      <td>-73.9805</td>\n",
       "      <td>40.7338</td>\n",
       "      <td>10009</td>\n",
       "    </tr>\n",
       "    <tr>\n",
       "      <th>2</th>\n",
       "      <td>1 Ave &amp; E 30 St</td>\n",
       "      <td>-73.9754</td>\n",
       "      <td>40.7414</td>\n",
       "      <td>10016</td>\n",
       "    </tr>\n",
       "    <tr>\n",
       "      <th>3</th>\n",
       "      <td>10 Ave &amp; W 202 St</td>\n",
       "      <td>-73.9214</td>\n",
       "      <td>40.8613</td>\n",
       "      <td>10034</td>\n",
       "    </tr>\n",
       "    <tr>\n",
       "      <th>4</th>\n",
       "      <td>10 Ave &amp; W 204 St</td>\n",
       "      <td>-73.9201</td>\n",
       "      <td>40.8626</td>\n",
       "      <td>10034</td>\n",
       "    </tr>\n",
       "  </tbody>\n",
       "</table>\n",
       "</div>"
      ],
      "text/plain": [
       "    end_station_name   end_lng  end_lat ZIP Code\n",
       "0   1 Ave & E 110 St  -73.9383  40.7923    10029\n",
       "1    1 Ave & E 18 St  -73.9805  40.7338    10009\n",
       "2    1 Ave & E 30 St  -73.9754  40.7414    10016\n",
       "3  10 Ave & W 202 St  -73.9214  40.8613    10034\n",
       "4  10 Ave & W 204 St  -73.9201  40.8626    10034"
      ]
     },
     "execution_count": 74,
     "metadata": {},
     "output_type": "execute_result"
    }
   ],
   "source": [
    "df['ZIP Code'] = df.apply(lambda row: get_zip_code(row['end_lat'], row['end_lng']), axis=1)\n",
    "\n",
    "# Display the dataframe\n",
    "df.head()"
   ]
  },
  {
   "cell_type": "code",
   "execution_count": 76,
   "metadata": {},
   "outputs": [],
   "source": [
    "df.to_csv('stationzipdata.csv', index=False)"
   ]
  },
  {
   "cell_type": "code",
   "execution_count": 84,
   "metadata": {},
   "outputs": [
    {
     "name": "stdout",
     "output_type": "stream",
     "text": [
      "<class 'pandas.core.frame.DataFrame'>\n",
      "RangeIndex: 2494 entries, 0 to 2493\n",
      "Data columns (total 4 columns):\n",
      " #   Column            Non-Null Count  Dtype \n",
      "---  ------            --------------  ----- \n",
      " 0   end_station_name  2494 non-null   object\n",
      " 1   end_lng           2494 non-null   object\n",
      " 2   end_lat           2494 non-null   object\n",
      " 3   ZIP Code          2494 non-null   object\n",
      "dtypes: object(4)\n",
      "memory usage: 78.1+ KB\n"
     ]
    }
   ],
   "source": [
    "df.info()"
   ]
  },
  {
   "cell_type": "code",
   "execution_count": 87,
   "metadata": {},
   "outputs": [
    {
     "data": {
      "text/html": [
       "<div>\n",
       "<style scoped>\n",
       "    .dataframe tbody tr th:only-of-type {\n",
       "        vertical-align: middle;\n",
       "    }\n",
       "\n",
       "    .dataframe tbody tr th {\n",
       "        vertical-align: top;\n",
       "    }\n",
       "\n",
       "    .dataframe thead th {\n",
       "        text-align: right;\n",
       "    }\n",
       "</style>\n",
       "<table border=\"1\" class=\"dataframe\">\n",
       "  <thead>\n",
       "    <tr style=\"text-align: right;\">\n",
       "      <th></th>\n",
       "      <th>end_station_name</th>\n",
       "      <th>end_lng</th>\n",
       "      <th>end_lat</th>\n",
       "      <th>ZIP Code</th>\n",
       "    </tr>\n",
       "  </thead>\n",
       "  <tbody>\n",
       "    <tr>\n",
       "      <th>730</th>\n",
       "      <td>Carlton Ave &amp; Dean St</td>\n",
       "      <td>-73.971</td>\n",
       "      <td>40.681</td>\n",
       "      <td>11238</td>\n",
       "    </tr>\n",
       "    <tr>\n",
       "      <th>1065</th>\n",
       "      <td>Carlton Ave &amp; Park Ave</td>\n",
       "      <td>-73.9736</td>\n",
       "      <td>40.6958</td>\n",
       "      <td>11205</td>\n",
       "    </tr>\n",
       "    <tr>\n",
       "      <th>1538</th>\n",
       "      <td>Carlton Ave &amp; Flushing Ave</td>\n",
       "      <td>-73.9737</td>\n",
       "      <td>40.6978</td>\n",
       "      <td>11238</td>\n",
       "    </tr>\n",
       "    <tr>\n",
       "      <th>1658</th>\n",
       "      <td>Carlton Ave &amp; St Marks Ave</td>\n",
       "      <td>-73.9718</td>\n",
       "      <td>40.6791</td>\n",
       "      <td>11238</td>\n",
       "    </tr>\n",
       "    <tr>\n",
       "      <th>2415</th>\n",
       "      <td>Bergen St &amp; Carlton Ave</td>\n",
       "      <td>-73.9712</td>\n",
       "      <td>40.6801</td>\n",
       "      <td>11238</td>\n",
       "    </tr>\n",
       "    <tr>\n",
       "      <th>2448</th>\n",
       "      <td>Bergen St &amp; Carlton Ave</td>\n",
       "      <td>-73.97</td>\n",
       "      <td>40.68</td>\n",
       "      <td>11238</td>\n",
       "    </tr>\n",
       "    <tr>\n",
       "      <th>2449</th>\n",
       "      <td>Bergen St &amp; Carlton Ave</td>\n",
       "      <td>-73.9701</td>\n",
       "      <td>40.68</td>\n",
       "      <td>11238</td>\n",
       "    </tr>\n",
       "  </tbody>\n",
       "</table>\n",
       "</div>"
      ],
      "text/plain": [
       "                end_station_name   end_lng  end_lat ZIP Code\n",
       "730        Carlton Ave & Dean St   -73.971   40.681    11238\n",
       "1065      Carlton Ave & Park Ave  -73.9736  40.6958    11205\n",
       "1538  Carlton Ave & Flushing Ave  -73.9737  40.6978    11238\n",
       "1658  Carlton Ave & St Marks Ave  -73.9718  40.6791    11238\n",
       "2415     Bergen St & Carlton Ave  -73.9712  40.6801    11238\n",
       "2448     Bergen St & Carlton Ave    -73.97    40.68    11238\n",
       "2449     Bergen St & Carlton Ave  -73.9701    40.68    11238"
      ]
     },
     "execution_count": 87,
     "metadata": {},
     "output_type": "execute_result"
    }
   ],
   "source": [
    "df[df['end_station_name'].str.contains('Carlton', na=False)]"
   ]
  },
  {
   "cell_type": "code",
   "execution_count": 91,
   "metadata": {},
   "outputs": [],
   "source": [
    "test_df = df[['end_station_name', 'ZIP Code']].drop_duplicates()\n"
   ]
  },
  {
   "cell_type": "code",
   "execution_count": 92,
   "metadata": {},
   "outputs": [
    {
     "data": {
      "text/html": [
       "<div>\n",
       "<style scoped>\n",
       "    .dataframe tbody tr th:only-of-type {\n",
       "        vertical-align: middle;\n",
       "    }\n",
       "\n",
       "    .dataframe tbody tr th {\n",
       "        vertical-align: top;\n",
       "    }\n",
       "\n",
       "    .dataframe thead th {\n",
       "        text-align: right;\n",
       "    }\n",
       "</style>\n",
       "<table border=\"1\" class=\"dataframe\">\n",
       "  <thead>\n",
       "    <tr style=\"text-align: right;\">\n",
       "      <th></th>\n",
       "      <th>end_station_name</th>\n",
       "      <th>ZIP Code</th>\n",
       "    </tr>\n",
       "  </thead>\n",
       "  <tbody>\n",
       "    <tr>\n",
       "      <th>730</th>\n",
       "      <td>Carlton Ave &amp; Dean St</td>\n",
       "      <td>11238</td>\n",
       "    </tr>\n",
       "    <tr>\n",
       "      <th>1065</th>\n",
       "      <td>Carlton Ave &amp; Park Ave</td>\n",
       "      <td>11205</td>\n",
       "    </tr>\n",
       "    <tr>\n",
       "      <th>1538</th>\n",
       "      <td>Carlton Ave &amp; Flushing Ave</td>\n",
       "      <td>11238</td>\n",
       "    </tr>\n",
       "    <tr>\n",
       "      <th>1658</th>\n",
       "      <td>Carlton Ave &amp; St Marks Ave</td>\n",
       "      <td>11238</td>\n",
       "    </tr>\n",
       "    <tr>\n",
       "      <th>2415</th>\n",
       "      <td>Bergen St &amp; Carlton Ave</td>\n",
       "      <td>11238</td>\n",
       "    </tr>\n",
       "  </tbody>\n",
       "</table>\n",
       "</div>"
      ],
      "text/plain": [
       "                end_station_name ZIP Code\n",
       "730        Carlton Ave & Dean St    11238\n",
       "1065      Carlton Ave & Park Ave    11205\n",
       "1538  Carlton Ave & Flushing Ave    11238\n",
       "1658  Carlton Ave & St Marks Ave    11238\n",
       "2415     Bergen St & Carlton Ave    11238"
      ]
     },
     "execution_count": 92,
     "metadata": {},
     "output_type": "execute_result"
    }
   ],
   "source": [
    "test_df[test_df['end_station_name'].str.contains('Carlton', na=False)]"
   ]
  },
  {
   "cell_type": "code",
   "execution_count": 93,
   "metadata": {},
   "outputs": [
    {
     "data": {
      "text/plain": [
       "140"
      ]
     },
     "execution_count": 93,
     "metadata": {},
     "output_type": "execute_result"
    }
   ],
   "source": [
    "test_df['ZIP Code'].nunique()\n"
   ]
  },
  {
   "cell_type": "code",
   "execution_count": null,
   "metadata": {},
   "outputs": [],
   "source": []
  }
 ],
 "metadata": {
  "kernelspec": {
   "display_name": "usual",
   "language": "python",
   "name": "python3"
  },
  "language_info": {
   "codemirror_mode": {
    "name": "ipython",
    "version": 3
   },
   "file_extension": ".py",
   "mimetype": "text/x-python",
   "name": "python",
   "nbconvert_exporter": "python",
   "pygments_lexer": "ipython3",
   "version": "3.11.5"
  }
 },
 "nbformat": 4,
 "nbformat_minor": 2
}
